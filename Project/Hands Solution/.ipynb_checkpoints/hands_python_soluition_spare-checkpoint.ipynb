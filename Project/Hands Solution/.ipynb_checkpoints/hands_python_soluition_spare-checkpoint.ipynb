{
 "cells": [
  {
   "cell_type": "code",
   "execution_count": 1,
   "metadata": {},
   "outputs": [],
   "source": [
    "import os\n",
    "import cv2\n",
    "import mediapipe as mp\n",
    "import numpy as np \n",
    "mp_drawing = mp.solutions.drawing_utils\n",
    "mp_drawing_styles = mp.solutions.drawing_styles\n",
    "mp_hands = mp.solutions.hands"
   ]
  },
  {
   "cell_type": "code",
   "execution_count": 10,
   "metadata": {},
   "outputs": [],
   "source": [
    "#Utility functions\n",
    "\n",
    "def get_Wrist(hand_landmark):\n",
    "    landmark = []\n",
    "    landmark.append(hand_landmark.landmark[mp_hands.HandLandmark.WRIST].x)\n",
    "    landmark.append(hand_landmark.landmark[mp_hands.HandLandmark.WRIST].y)\n",
    "\n",
    "    return landmark\n",
    "    \n",
    "def get_Thumb_CMC(hand_landmark):\n",
    "    \n",
    "    landmark = []\n",
    "    landmark.append(hand_landmark.landmark[mp_hands.HandLandmark.THUMB_CMC].x)\n",
    "    landmark.append(hand_landmark.landmark[mp_hands.HandLandmark.THUMB_CMC].y)\n",
    "        \n",
    "    return landmark\n",
    "\n",
    "def get_Thumb_MCP(hand_landmark):\n",
    "    \n",
    "    landmark = []\n",
    "    landmark.append(hand_landmark.landmark[mp_hands.HandLandmark.THUMB_MCP].x)\n",
    "    landmark.append(hand_landmark.landmark[mp_hands.HandLandmark.THUMB_MCP].y)\n",
    "        \n",
    "    return landmark\n",
    "\n",
    "def get_Thumb_IP(hand_landmark):\n",
    "    \n",
    "    landmark = []\n",
    "    landmark.append(hand_landmark.landmark[mp_hands.HandLandmark.THUMB_IP].x)\n",
    "    landmark.append(hand_landmark.landmark[mp_hands.HandLandmark.THUMB_IP].y)\n",
    "        \n",
    "    return landmark\n",
    "\n",
    "def get_Thumb_TIP(hand_landmark):\n",
    "    \n",
    "    landmark = []\n",
    "    landmark.append(hand_landmark.landmark[mp_hands.HandLandmark.THUMB_TIP].x)\n",
    "    landmark.append(hand_landmark.landmark[mp_hands.HandLandmark.THUMB_TIP].y)\n",
    "        \n",
    "    return landmark\n",
    "\n",
    "def get_Index_MCP(hand_landmark):\n",
    "    \n",
    "    landmark = []\n",
    "    landmark.append(hand_landmark.landmark[mp_hands.HandLandmark.INDEX_FINGER_MCP].x)\n",
    "    landmark.append(hand_landmark.landmark[mp_hands.HandLandmark.INDEX_FINGER_MCP].y)\n",
    "        \n",
    "    return landmark\n",
    "\n",
    "def get_Index_PIP(hand_landmark):\n",
    "    \n",
    "    landmark = []\n",
    "    landmark.append(hand_landmark.landmark[mp_hands.HandLandmark.INDEX_FINGER_PIP].x)\n",
    "    landmark.append(hand_landmark.landmark[mp_hands.HandLandmark.INDEX_FINGER_PIP].y)\n",
    "        \n",
    "    return landmark\n",
    "\n",
    "def get_Index_DIP(hand_landmark):\n",
    "    \n",
    "    landmark = []\n",
    "    landmark.append(hand_landmark.landmark[mp_hands.HandLandmark.INDEX_FINGER_DIP].x)\n",
    "    landmark.append(hand_landmark.landmark[mp_hands.HandLandmark.INDEX_FINGER_DIP].y)\n",
    "        \n",
    "    return landmark\n",
    "\n",
    "def get_Index_TIP(hand_landmark):\n",
    "    \n",
    "    landmark = []\n",
    "    landmark.append(hand_landmark.landmark[mp_hands.HandLandmark.INDEX_FINGER_TIP].x)\n",
    "    landmark.append(hand_landmark.landmark[mp_hands.HandLandmark.INDEX_FINGER_TIP].y)\n",
    "        \n",
    "    return landmark\n",
    "\n",
    "def get_Middle_MCP(hand_landmark):\n",
    "    \n",
    "    landmark = []\n",
    "    landmark.append(hand_landmark.landmark[mp_hands.HandLandmark.MIDDLE_FINGER_MCP].x)\n",
    "    landmark.append(hand_landmark.landmark[mp_hands.HandLandmark.MIDDLE_FINGER_MCP].y)\n",
    "        \n",
    "    return landmark\n",
    "\n",
    "def get_Middle_PIP(hand_landmark):\n",
    "    \n",
    "    landmark = []\n",
    "    landmark.append(hand_landmark.landmark[mp_hands.HandLandmark.MIDDLE_FINGER_PIP].x)\n",
    "    landmark.append(hand_landmark.landmark[mp_hands.HandLandmark.MIDDLE_FINGER_PIP].y)\n",
    "        \n",
    "    return landmark\n",
    "\n",
    "def get_Middle_DIP(hand_landmark):\n",
    "    \n",
    "    landmark = []\n",
    "    landmark.append(hand_landmark.landmark[mp_hands.HandLandmark.MIDDLE_FINGER_DIP].x)\n",
    "    landmark.append(hand_landmark.landmark[mp_hands.HandLandmark.MIDDLE_FINGER_DIP].y)\n",
    "        \n",
    "    return landmark\n",
    "\n",
    "def get_Middle_TIP(hand_landmark):\n",
    "    \n",
    "    landmark = []\n",
    "    landmark.append(hand_landmark.landmark[mp_hands.HandLandmark.MIDDLE_FINGER_TIP].x)\n",
    "    landmark.append(hand_landmark.landmark[mp_hands.HandLandmark.MIDDLE_FINGER_TIP].y)\n",
    "        \n",
    "    return landmark\n",
    "\n",
    "def get_Ring_MCP(hand_landmark):\n",
    "    \n",
    "    landmark = []\n",
    "    landmark.append(hand_landmark.landmark[mp_hands.HandLandmark.RING_FINGER_MCP].x)\n",
    "    landmark.append(hand_landmark.landmark[mp_hands.HandLandmark.RING_FINGER_MCP].y)\n",
    "        \n",
    "    return landmark\n",
    "\n",
    "def get_Ring_PIP(hand_landmark):\n",
    "    \n",
    "    landmark = []\n",
    "    landmark.append(hand_landmark.landmark[mp_hands.HandLandmark.RING_FINGER_PIP].x)\n",
    "    landmark.append(hand_landmark.landmark[mp_hands.HandLandmark.RING_FINGER_PIP].y)\n",
    "        \n",
    "    return landmark\n",
    "\n",
    "def get_Ring_DIP(hand_landmark):\n",
    "    \n",
    "    landmark = []\n",
    "    landmark.append(hand_landmark.landmark[mp_hands.HandLandmark.RING_FINGER_DIP].x)\n",
    "    landmark.append(hand_landmark.landmark[mp_hands.HandLandmark.RING_FINGER_DIP].y)\n",
    "        \n",
    "    return landmark\n",
    "\n",
    "def get_Ring_TIP(hand_landmark):\n",
    "    \n",
    "    landmark = []\n",
    "    landmark.append(hand_landmark.landmark[mp_hands.HandLandmark.RING_FINGER_TIP].x)\n",
    "    landmark.append(hand_landmark.landmark[mp_hands.HandLandmark.RING_FINGER_TIP].y)\n",
    "        \n",
    "    return landmark\n",
    "\n",
    "def get_Pinky_MCP(hand_landmark):\n",
    "    \n",
    "    landmark = []\n",
    "    landmark.append(hand_landmark.landmark[mp_hands.HandLandmark.PINKY_MCP].x)\n",
    "    landmark.append(hand_landmark.landmark[mp_hands.HandLandmark.PINKY_MCP].y)\n",
    "        \n",
    "    return landmark\n",
    "\n",
    "def get_Pinky_PIP(hand_landmark):\n",
    "    \n",
    "    landmark = []\n",
    "    landmark.append(hand_landmark.landmark[mp_hands.HandLandmark.PINKY_PIP].x)\n",
    "    landmark.append(hand_landmark.landmark[mp_hands.HandLandmark.PINKY_PIP].y)\n",
    "        \n",
    "    return landmark\n",
    "\n",
    "def get_Pinky_DIP(hand_landmark):\n",
    "    \n",
    "    landmark = []\n",
    "    landmark.append(hand_landmark.landmark[mp_hands.HandLandmark.PINKY_DIP].x)\n",
    "    landmark.append(hand_landmark.landmark[mp_hands.HandLandmark.PINKY_DIP].y)\n",
    "        \n",
    "    return landmark\n",
    "\n",
    "def get_Pinky_TIP(hand_landmark):\n",
    "    \n",
    "    landmark = []\n",
    "    landmark.append(hand_landmark.landmark[mp_hands.HandLandmark.PINKY_TIP].x)\n",
    "    landmark.append(hand_landmark.landmark[mp_hands.HandLandmark.PINKY_TIP].y)\n",
    "        \n",
    "    return landmark\n",
    "\n",
    "\n",
    "def checkHands(results):\n",
    "    handsType = []\n",
    "    for hand_landmark in results.multi_handedness:\n",
    "            handsType.append(hand_landmark.classification[0].label)\n",
    "    return handsType\n",
    "\n",
    "# Getting and arranging hands data by multi_handedness\n",
    "def arrangeHands(all_arr):\n",
    "    if(len(hands_res) == 1):\n",
    "        arranged = replace_Hand(all_arr)\n",
    "    else:\n",
    "        arranged = org_Hand(all_arr)\n",
    "        \n",
    "    return arranged\n",
    "        \n",
    "def replace_Hand(all_arr):\n",
    "    \n",
    "    if((hands_res[0]) == \"Left\"):\n",
    "        left_hand = all_arr\n",
    "        right_hand = np.zeros(21*2)\n",
    "    else:\n",
    "        right_hand = all_arr\n",
    "        left_hand = np.zeros(21*2)\n",
    "        \n",
    "    return np.concatenate([left_hand, right_hand])\n",
    "\n",
    "def org_Hand(all_arr):\n",
    "    \n",
    "    if(hands_res[0] == \"Left\"):\n",
    "        left_hand = all_arr[:42]\n",
    "        right_hand = all_arr[42:]\n",
    "    else:\n",
    "        right_hand = all_arr[:42]\n",
    "        left_hand = all_arr[42:]\n",
    "        \n",
    "    return np.concatenate([left_hand, right_hand])\n",
    "\n",
    "#Collect all landmarks\n",
    "def getHands(results):\n",
    "    all_landmarks = []\n",
    "    for hand_landmark in results.multi_hand_landmarks:\n",
    "        land = get_Wrist(hand_landmark)\n",
    "        all_landmarks.append(land)\n",
    "        land = get_Thumb_CMC(hand_landmark)\n",
    "        all_landmarks.append(land)\n",
    "        land = get_Thumb_MCP(hand_landmark)\n",
    "        all_landmarks.append(land)\n",
    "        land = get_Thumb_IP(hand_landmark)\n",
    "        all_landmarks.append(land)\n",
    "        land = get_Thumb_TIP(hand_landmark)\n",
    "        all_landmarks.append(land)\n",
    "        \n",
    "        land = get_Index_MCP(hand_landmark)\n",
    "        all_landmarks.append(land)\n",
    "        land = get_Index_PIP(hand_landmark)\n",
    "        all_landmarks.append(land)\n",
    "        land = get_Index_DIP(hand_landmark)\n",
    "        all_landmarks.append(land)\n",
    "        land = get_Index_TIP(hand_landmark)\n",
    "        all_landmarks.append(land)\n",
    "        \n",
    "        land = get_Middle_MCP(hand_landmark)\n",
    "        all_landmarks.append(land)\n",
    "        land = get_Middle_PIP(hand_landmark)\n",
    "        all_landmarks.append(land)\n",
    "        land = get_Middle_DIP(hand_landmark)\n",
    "        all_landmarks.append(land)\n",
    "        land = get_Middle_TIP(hand_landmark)\n",
    "        all_landmarks.append(land)\n",
    "        \n",
    "        land = get_Ring_MCP(hand_landmark)\n",
    "        all_landmarks.append(land)\n",
    "        land = get_Ring_PIP(hand_landmark)\n",
    "        all_landmarks.append(land)\n",
    "        land = get_Ring_DIP(hand_landmark)\n",
    "        all_landmarks.append(land)\n",
    "        land = get_Ring_TIP(hand_landmark)\n",
    "        all_landmarks.append(land)\n",
    "        \n",
    "        land = get_Pinky_MCP(hand_landmark)\n",
    "        all_landmarks.append(land)\n",
    "        land = get_Pinky_PIP(hand_landmark)\n",
    "        all_landmarks.append(land)\n",
    "        land = get_Pinky_DIP(hand_landmark)\n",
    "        all_landmarks.append(land)\n",
    "        land = get_Pinky_TIP(hand_landmark)\n",
    "        all_landmarks.append(land)\n",
    "        \n",
    "    #Flattened landmarks\n",
    "    all_arr = np.array(all_landmarks).flatten()\n",
    "    return all_arr    \n",
    "\n",
    "def drawLandmarks():\n",
    "\n",
    "    for hand_landmarks in results.multi_hand_landmarks:\n",
    "\n",
    "        mp_drawing.draw_landmarks(\n",
    "            image,\n",
    "            hand_landmarks,\n",
    "            mp_hands.HAND_CONNECTIONS,\n",
    "            mp_drawing_styles.get_default_hand_landmarks_style(),\n",
    "            mp_drawing_styles.get_default_hand_connections_style())\n",
    "        \n",
    "def get_labels(file_name):\n",
    "    with open(file_name) as r: \n",
    "        labels = r.read().splitlines()\n",
    "    return np.array(labels)\n",
    "\n",
    "\n",
    "def data_collection():\n",
    "    if frame_num == 0:\n",
    "\n",
    "        cv2.putText(image, 'STARTING COLLECTION', (200, 200),\n",
    "                   cv2.FONT_HERSHEY_SIMPLEX, 1, (0, 255, 0), 4, cv2.LINE_AA)\n",
    "        cv2.putText(image, 'Collecting frames for {} Video number {}'.format(act, sequence), (15, 12),\n",
    "                   cv2.FONT_HERSHEY_SIMPLEX, 0.5, (0, 0, 255), 1, cv2.LINE_AA)\n",
    "\n",
    "        #Display frames\n",
    "        cv2.imshow(\"MediaPipe Hands\", image)\n",
    "        cv2.waitKey(2000)\n",
    "\n",
    "    else:\n",
    "        cv2.putText(image, 'Collecting frames for {}st video' .format(sequence), (15, 12),\n",
    "                   cv2.FONT_HERSHEY_SIMPLEX, 0.5, (0, 0, 255), 4, cv2.LINE_AA)\n",
    "\n",
    "        #Display frames\n",
    "        cv2.imshow(\"MediaPipe Hands\", image)"
   ]
  },
  {
   "cell_type": "code",
   "execution_count": 11,
   "metadata": {},
   "outputs": [],
   "source": [
    "#Collecting labels\n",
    "data_path = os.path.join('MP_Data')\n",
    "actions = get_labels(\"labels.txt\")\n",
    "\n",
    "#Thirsty videos worth of data each with 30 frames in length\n",
    "no_sequences = 50\n",
    "sequence_length = 40"
   ]
  },
  {
   "cell_type": "code",
   "execution_count": 6,
   "metadata": {},
   "outputs": [
    {
     "data": {
      "text/plain": [
       "'\\n\\n#Setting up data collection folders\\nfor action in actions:\\n    for sequence in range(no_sequences):\\n        try:\\n            os.makedirs(os.path.join(data_path, action, str(sequence)))\\n        except:\\n            pass        \\n'"
      ]
     },
     "execution_count": 6,
     "metadata": {},
     "output_type": "execute_result"
    }
   ],
   "source": [
    "\"\"\"\n",
    "\n",
    "#Setting up data collection folders\n",
    "for action in actions:\n",
    "    for sequence in range(no_sequences):\n",
    "        try:\n",
    "            os.makedirs(os.path.join(data_path, action, str(sequence)))\n",
    "        except:\n",
    "            pass        \n",
    "\"\"\""
   ]
  },
  {
   "cell_type": "code",
   "execution_count": 7,
   "metadata": {},
   "outputs": [
    {
     "data": {
      "text/plain": [
       "23"
      ]
     },
     "execution_count": 7,
     "metadata": {},
     "output_type": "execute_result"
    }
   ],
   "source": [
    "len(actions)"
   ]
  },
  {
   "cell_type": "code",
   "execution_count": 13,
   "metadata": {},
   "outputs": [],
   "source": [
    "# Openning webcam\n",
    "cap = cv2.VideoCapture(0)\n",
    "with mp_hands.Hands(model_complexity=0, min_detection_confidence=0.5, min_tracking_confidence=0.5) as hands:\n",
    "    while cap.isOpened():\n",
    "        success, image = cap.read()\n",
    "        \n",
    "        if not success:\n",
    "            print('Ignoring empty camera frame!')\n",
    "            continue\n",
    "            \n",
    "        # To improve performance, optionally mark the image as not writeable to\n",
    "        # pass by reference.\n",
    "        \n",
    "        image = cv2.flip(image, 1)\n",
    "        image.flags.writeable = False\n",
    "        image = cv2.cvtColor(image, cv2.COLOR_BGR2RGB)\n",
    "        results = hands.process(image)\n",
    "        \n",
    "        # Draw the hand annotations on the image.\n",
    "        image.flags.writeable = True\n",
    "        image = cv2.cvtColor(image, cv2.COLOR_RGB2BGR)\n",
    "        \n",
    "        \n",
    "        if results.multi_hand_landmarks:\n",
    "            \n",
    "            #Checking hand multihandedness\n",
    "            hands_res = checkHands(results)\n",
    "            \n",
    "            #Collect all landmarks\n",
    "            all_arr = getHands(results)\n",
    "            \n",
    "            #Arrange hands\n",
    "            arranged = arrangeHands(all_arr)\n",
    "            \n",
    "            drawLandmarks()\n",
    "                \n",
    "            # Flip the image horizontally for a selfie-view display.\n",
    "            cv2.imshow('MediaPipe Hands', image)\n",
    "            \n",
    "        else:\n",
    "            \n",
    "            cv2.imshow('MediaPipe Hands', image)\n",
    "            \n",
    "    \n",
    "        if cv2.waitKey(10) & 0xFF == ord(\"q\"):\n",
    "            break\n",
    "            \n",
    "#Release resources\n",
    "cap.release()\n",
    "cv2.destroyAllWindows()"
   ]
  },
  {
   "cell_type": "code",
   "execution_count": 14,
   "metadata": {},
   "outputs": [
    {
     "name": "stdout",
     "output_type": "stream",
     "text": [
      "84\n",
      "[0.20359203 0.64568532 0.26912141 0.64757526 0.31709936 0.6177932\n",
      " 0.34874037 0.58234888 0.37828654 0.54587841 0.32552078 0.53435552\n",
      " 0.36616349 0.48598787 0.39236569 0.45276827 0.4118942  0.4258886\n",
      " 0.29898566 0.50841761 0.34219012 0.44663841 0.36727917 0.408301\n",
      " 0.39157626 0.37436211 0.26971179 0.49220747 0.30629531 0.43107712\n",
      " 0.33065197 0.39610636 0.35319698 0.36748794 0.23751712 0.48044878\n",
      " 0.25912401 0.43166041 0.27745894 0.40177026 0.29604122 0.37300605\n",
      " 0.         0.         0.         0.         0.         0.\n",
      " 0.         0.         0.         0.         0.         0.\n",
      " 0.         0.         0.         0.         0.         0.\n",
      " 0.         0.         0.         0.         0.         0.\n",
      " 0.         0.         0.         0.         0.         0.\n",
      " 0.         0.         0.         0.         0.         0.\n",
      " 0.         0.         0.         0.         0.         0.        ]\n",
      "['Left']\n"
     ]
    }
   ],
   "source": [
    "print(len(arranged))\n",
    "print(arranged)\n",
    "print(checkHands(results))\n",
    "\n",
    "def checkHands(results):\n",
    "    handsType = []\n",
    "    for hand_landmark in results.multi_handedness:\n",
    "            handsType.append(hand_landmark.classification[0].label)\n",
    "    return handsType"
   ]
  },
  {
   "cell_type": "code",
   "execution_count": 12,
   "metadata": {},
   "outputs": [
    {
     "name": "stdout",
     "output_type": "stream",
     "text": [
      "['hello' 'please' 'yes' 'no' 'eat' 'help' 'need' 'bathroom' 'sick' 'phone'\n",
      " 'I' 'love' 'you' 'who' 'time' 'happy' 'sad' 'hungry' 'thirsty' 'where'\n",
      " 'restaurant' 'thank you' 'goodbye']\n"
     ]
    }
   ],
   "source": [
    "print(actions)"
   ]
  },
  {
   "cell_type": "markdown",
   "metadata": {},
   "source": [
    "Run the following cell while changing the current action in order to save landmarks to their respective directories"
   ]
  },
  {
   "cell_type": "code",
   "execution_count": 76,
   "metadata": {},
   "outputs": [],
   "source": [
    "#Collecting and saving file\n",
    "act = actions[23]\n",
    "# Openning webcam\n",
    "cap = cv2.VideoCapture(0)\n",
    "with mp_hands.Hands(model_complexity=0, min_detection_confidence=0.5, min_tracking_confidence=0.5) as hands:\n",
    "    \n",
    "    #loop through sequnces \n",
    "    for sequence in range(no_sequences):\n",
    "        #Loop through each video frame\n",
    "        frame_num = 0\n",
    "        while frame_num < sequence_length:\n",
    "            #Read video frame\n",
    "            success, image = cap.read()\n",
    "            \n",
    "            # To improve performance, optionally mark the image as not writeable to\n",
    "            # pass by reference.\n",
    "\n",
    "            # Flip the image horizontally for a selfie-view display.\n",
    "            image = cv2.flip(image, 1)\n",
    "            image.flags.writeable = False\n",
    "            image = cv2.cvtColor(image, cv2.COLOR_BGR2RGB)\n",
    "            results = hands.process(image)\n",
    "\n",
    "            # Draw the hand annotations on the image.\n",
    "            image.flags.writeable = True\n",
    "            image = cv2.cvtColor(image, cv2.COLOR_RGB2BGR)\n",
    "            \n",
    "            if results.multi_hand_landmarks:\n",
    "                \n",
    "                \n",
    "                #Checking hand multihandedness\n",
    "                hands_res = checkHands(results)\n",
    "\n",
    "                #Collect all landmarks\n",
    "                all_arr = getHands(results)\n",
    "\n",
    "                #Arrange hands\n",
    "                arranged = arrangeHands(all_arr)\n",
    "\n",
    "                drawLandmarks()\n",
    "\n",
    "                #Print data collection frame\n",
    "                data_collection() \n",
    "                \n",
    "                #Export keypoints to folders\n",
    "                npy_path = os.path.join(data_path, act, str(sequence), str(frame_num))\n",
    "                np.save(npy_path, arranged)\n",
    "                \n",
    "                #Proceed to next frame\n",
    "                frame_num += 1\n",
    "                \n",
    "            else:\n",
    "                \n",
    "                cv2.imshow('MediaPipe Hands', image)\n",
    "                \n",
    "                \n",
    "            if cv2.waitKey(10) & 0xFF == ord(\"q\"):\n",
    "                break\n",
    "            \n",
    "         \n",
    "            \n",
    "#Release resources\n",
    "cap.release()\n",
    "cv2.destroyAllWindows()"
   ]
  },
  {
   "cell_type": "markdown",
   "metadata": {},
   "source": [
    "# Preprocess data and Create Labels and Features "
   ]
  },
  {
   "cell_type": "code",
   "execution_count": 13,
   "metadata": {},
   "outputs": [],
   "source": [
    "from sklearn.model_selection import train_test_split\n",
    "#from tensorflow.keras.utils import to_categorical"
   ]
  },
  {
   "cell_type": "code",
   "execution_count": 14,
   "metadata": {
    "scrolled": false
   },
   "outputs": [
    {
     "name": "stdout",
     "output_type": "stream",
     "text": [
      "{'hello': 0, 'please': 1, 'yes': 2, 'no': 3, 'eat': 4, 'help': 5, 'need': 6, 'bathroom': 7, 'sick': 8, 'phone': 9, 'I': 10, 'love': 11, 'you': 12, 'who': 13, 'time': 14, 'happy': 15, 'sad': 16, 'hungry': 17, 'thirsty': 18, 'where': 19, 'restaurant': 20, 'thank you': 21, 'goodbye': 22}\n",
      "[0, 1, 2, 3, 4, 5, 6, 7, 8, 9, 10, 11, 12, 13, 14, 15, 16, 17, 18, 19, 20, 21, 22]\n"
     ]
    }
   ],
   "source": [
    "#We enumerate actions to scalar values\n",
    "eg = enumerate(actions)\n",
    "label_map = {label:num for num, label in eg}\n",
    "print(label_map)\n",
    "\n",
    "labels_no = []\n",
    "for i in label_map:\n",
    "    labels_no.append(label_map[i])\n",
    "    \n",
    "print(labels_no)"
   ]
  },
  {
   "cell_type": "code",
   "execution_count": 952,
   "metadata": {},
   "outputs": [
    {
     "data": {
      "text/plain": [
       "array(['hello', 'please', 'yes', 'no', 'eat', 'help', 'need', 'bathroom',\n",
       "       'sick', 'phone', 'I', 'love', 'you', 'who', 'time', 'happy', 'sad',\n",
       "       'hungry', 'thirsty', 'where', 'restaurant', 'thank you', 'goodbye'],\n",
       "      dtype='<U10')"
      ]
     },
     "execution_count": 952,
     "metadata": {},
     "output_type": "execute_result"
    }
   ],
   "source": [
    "actions"
   ]
  },
  {
   "cell_type": "code",
   "execution_count": 16,
   "metadata": {},
   "outputs": [],
   "source": [
    "sequences, labels = [], []\n",
    "\n",
    "for action in actions:\n",
    "    for sequence in range(no_sequences):\n",
    "        window = []\n",
    "        for frame_num in range(sequence_length):\n",
    "            res = np.load(os.path.join(data_path, action, str(sequence), '{}.npy'.format(frame_num)))\n",
    "            window.append(res)\n",
    "        sequences.append(window)\n",
    "        labels.append(label_map[action])"
   ]
  },
  {
   "cell_type": "code",
   "execution_count": 17,
   "metadata": {},
   "outputs": [
    {
     "data": {
      "text/plain": [
       "(1150, 40, 84)"
      ]
     },
     "execution_count": 17,
     "metadata": {},
     "output_type": "execute_result"
    }
   ],
   "source": [
    "X = np.array(sequences)\n",
    "len(X.shape)\n",
    "X.shape"
   ]
  },
  {
   "cell_type": "code",
   "execution_count": 24,
   "metadata": {},
   "outputs": [],
   "source": [
    "np.save('X_data.npy', X)\n",
    "np.save('y_data.npy', labels)"
   ]
  },
  {
   "cell_type": "code",
   "execution_count": 8,
   "metadata": {},
   "outputs": [
    {
     "ename": "NameError",
     "evalue": "name 'labels' is not defined",
     "output_type": "error",
     "traceback": [
      "\u001b[1;31m---------------------------------------------------------------------------\u001b[0m",
      "\u001b[1;31mNameError\u001b[0m                                 Traceback (most recent call last)",
      "\u001b[1;32mC:\\Users\\CACHEH~1\\AppData\\Local\\Temp/ipykernel_15816/935441625.py\u001b[0m in \u001b[0;36m<module>\u001b[1;34m\u001b[0m\n\u001b[1;32m----> 1\u001b[1;33m \u001b[0my\u001b[0m \u001b[1;33m=\u001b[0m \u001b[0mnp\u001b[0m\u001b[1;33m.\u001b[0m\u001b[0marray\u001b[0m\u001b[1;33m(\u001b[0m\u001b[0mlabels\u001b[0m\u001b[1;33m)\u001b[0m\u001b[1;33m\u001b[0m\u001b[1;33m\u001b[0m\u001b[0m\n\u001b[0m\u001b[0;32m      2\u001b[0m \u001b[0mprint\u001b[0m\u001b[1;33m(\u001b[0m\u001b[0my\u001b[0m\u001b[1;33m.\u001b[0m\u001b[0mshape\u001b[0m\u001b[1;33m)\u001b[0m\u001b[1;33m\u001b[0m\u001b[1;33m\u001b[0m\u001b[0m\n",
      "\u001b[1;31mNameError\u001b[0m: name 'labels' is not defined"
     ]
    }
   ],
   "source": [
    "y = np.array(labels)\n",
    "print(y.shape)"
   ]
  },
  {
   "cell_type": "code",
   "execution_count": null,
   "metadata": {},
   "outputs": [],
   "source": []
  },
  {
   "cell_type": "code",
   "execution_count": null,
   "metadata": {},
   "outputs": [],
   "source": []
  },
  {
   "cell_type": "code",
   "execution_count": null,
   "metadata": {},
   "outputs": [],
   "source": []
  },
  {
   "cell_type": "code",
   "execution_count": null,
   "metadata": {},
   "outputs": [],
   "source": []
  },
  {
   "cell_type": "code",
   "execution_count": null,
   "metadata": {},
   "outputs": [],
   "source": []
  },
  {
   "cell_type": "code",
   "execution_count": null,
   "metadata": {},
   "outputs": [],
   "source": []
  },
  {
   "cell_type": "code",
   "execution_count": null,
   "metadata": {},
   "outputs": [],
   "source": []
  },
  {
   "cell_type": "markdown",
   "metadata": {},
   "source": [
    "### Codes used in debugging"
   ]
  },
  {
   "cell_type": "code",
   "execution_count": 946,
   "metadata": {},
   "outputs": [],
   "source": [
    "act = ['time']\n",
    "count = 0\n",
    "sequence = []\n",
    "turns = 0\n",
    "for i in act:\n",
    "    for sequence_no in range(turns, 50):\n",
    "        #print(sequence_no)\n",
    "        window = []\n",
    "        for frame in range(sequence_length):\n",
    "            res = np.load(os.path.join(data_path, i, str(sequence_no), '{}.npy'.format(frame)))\n",
    "            #print(res)\n",
    "            window.append(res)\n",
    "            count += 1\n",
    "        sequence.append(window)\n",
    "#print(count)"
   ]
  },
  {
   "cell_type": "code",
   "execution_count": 947,
   "metadata": {},
   "outputs": [
    {
     "name": "stdout",
     "output_type": "stream",
     "text": [
      "(50, 40, 84)\n"
     ]
    }
   ],
   "source": [
    "print(np.array(sequence).shape)"
   ]
  },
  {
   "cell_type": "code",
   "execution_count": 929,
   "metadata": {},
   "outputs": [],
   "source": [
    "seq = []\n",
    "for i in range(0, 40):\n",
    "    data = np.load(os.path.join(data_path, 'sick', str(46), '{}.npy'.format(i)))\n",
    "    seq.append(data)\n",
    "    if(len(np.array(seq).shape) == 1):\n",
    "        print('{}.npy'.format(i))\n",
    "        seq.pop()"
   ]
  },
  {
   "cell_type": "code",
   "execution_count": 930,
   "metadata": {},
   "outputs": [
    {
     "name": "stdout",
     "output_type": "stream",
     "text": [
      "(40, 84)\n"
     ]
    }
   ],
   "source": [
    "seq = []\n",
    "for i in range(0, 40):\n",
    "    data = np.load(os.path.join(data_path, 'sick', str(46), '{}.npy'.format(i)))\n",
    "    seq.append(data)\n",
    "    \n",
    "print(np.array(seq).shape)"
   ]
  },
  {
   "cell_type": "code",
   "execution_count": null,
   "metadata": {},
   "outputs": [],
   "source": [
    "import tensorflow as tf\n",
    "\n",
    "model = tf.keras.models.load_model('Models/hand_signs_2.h5')\n",
    "converter = tf.lite.TFLiteConverter.from_keras_model(model)\n",
    "tflite_model = converter.convert()\n",
    "open(\"Models/hand_signs_2.tflite\", \"wb\").write(tflite_model)"
   ]
  }
 ],
 "metadata": {
  "kernelspec": {
   "display_name": "Python 3",
   "language": "python",
   "name": "python3"
  },
  "language_info": {
   "codemirror_mode": {
    "name": "ipython",
    "version": 3
   },
   "file_extension": ".py",
   "mimetype": "text/x-python",
   "name": "python",
   "nbconvert_exporter": "python",
   "pygments_lexer": "ipython3",
   "version": "3.8.5"
  }
 },
 "nbformat": 4,
 "nbformat_minor": 5
}
